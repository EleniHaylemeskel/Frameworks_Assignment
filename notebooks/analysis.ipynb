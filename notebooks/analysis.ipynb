{
 "cells": [
  {
   "cell_type": "code",
   "execution_count": null,
   "id": "02fa6686",
   "metadata": {},
   "outputs": [],
   "source": [
    "# Analysis Notebook for CORD-19 Dataset\n",
    "\n",
    "import pandas as pd\n",
    "import matplotlib.pyplot as plt\n",
    "import seaborn as sns\n",
    "from wordcloud import WordCloud\n",
    "\n",
    "# Load the dataset\n",
    "df = pd.read_csv(\"../data/metadata.csv\")\n",
    "\n",
    "# Basic exploration\n",
    "print(\"Shape:\", df.shape)\n",
    "print(df.info())\n",
    "print(df.head())\n",
    "\n",
    "# Missing values\n",
    "print(df.isnull().sum().sort_values(ascending=False).head(20))\n",
    "\n",
    "# Convert publish_time to datetime and extract year\n",
    "df['publish_time'] = pd.to_datetime(df['publish_time'], errors='coerce')\n",
    "df['year'] = df['publish_time'].dt.year\n",
    "\n",
    "# Abstract word count\n",
    "df['abstract_word_count'] = df['abstract'].fillna(\"\").apply(lambda x: len(x.split()))\n",
    "\n",
    "# --- Visualizations ---\n",
    "\n",
    "# Publications by year\n",
    "year_counts = df['year'].value_counts().sort_index()\n",
    "plt.figure(figsize=(8,5))\n",
    "plt.bar(year_counts.index, year_counts.values, color='skyblue')\n",
    "plt.title(\"Publications by Year\")\n",
    "plt.xlabel(\"Year\")\n",
    "plt.ylabel(\"Number of Papers\")\n",
    "plt.show()\n",
    "\n",
    "# Top 10 journals\n",
    "top_journals = df['journal'].value_counts().head(10)\n",
    "plt.figure(figsize=(8,5))\n",
    "sns.barplot(y=top_journals.index, x=top_journals.values, palette=\"viridis\")\n",
    "plt.title(\"Top 10 Journals Publishing COVID-19 Research\")\n",
    "plt.xlabel(\"Number of Papers\")\n",
    "plt.ylabel(\"Journal\")\n",
    "plt.show()\n",
    "\n",
    "# Word cloud of titles\n",
    "text = \" \".join(df['title'].dropna().astype(str))\n",
    "wc = WordCloud(width=800, height=400, background_color=\"white\").generate(text)\n",
    "plt.figure(figsize=(15,7))\n",
    "plt.imshow(wc, interpolation=\"bilinear\")\n",
    "plt.axis(\"off\")\n",
    "plt.show()\n"
   ]
  }
 ],
 "metadata": {
  "kernelspec": {
   "display_name": "myenv",
   "language": "python",
   "name": "python3"
  },
  "language_info": {
   "name": "python",
   "version": "3.13.7"
  }
 },
 "nbformat": 4,
 "nbformat_minor": 5
}
